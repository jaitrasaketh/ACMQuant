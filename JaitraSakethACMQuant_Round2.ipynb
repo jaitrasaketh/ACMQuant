{
  "nbformat": 4,
  "nbformat_minor": 0,
  "metadata": {
    "colab": {
      "provenance": [],
      "mount_file_id": "1DOiH-sOni1m1My8uQe8yPi0meo9mEu3B",
      "authorship_tag": "ABX9TyOe/ZSjxA+4anW0dh/Ou/pt",
      "include_colab_link": true
    },
    "kernelspec": {
      "name": "python3",
      "display_name": "Python 3"
    },
    "language_info": {
      "name": "python"
    }
  },
  "cells": [
    {
      "cell_type": "markdown",
      "metadata": {
        "id": "view-in-github",
        "colab_type": "text"
      },
      "source": [
        "<a href=\"https://colab.research.google.com/github/jaitrasaketh/ACMQuant/blob/main/JaitraSakethACMQuant_Round2.ipynb\" target=\"_parent\"><img src=\"https://colab.research.google.com/assets/colab-badge.svg\" alt=\"Open In Colab\"/></a>"
      ]
    },
    {
      "cell_type": "code",
      "source": [
        "import numpy as np\n",
        "import pandas as pd\n",
        "import matplotlib.pyplot as plt\n"
      ],
      "metadata": {
        "id": "2Mbuf6bypWy1"
      },
      "execution_count": null,
      "outputs": []
    },
    {
      "cell_type": "markdown",
      "source": [
        "Task :\n",
        "\n",
        "> Indented block\n",
        "\n",
        "\n",
        "Simple Moving Average Crossover Strategy\n",
        "\n",
        "> Indented block\n",
        "\n",
        "\n",
        "Objective: Implement a basic algorithmic trading strategy that uses moving average crossovers to\n",
        "generate buy and sell signals. Evaluate the strategy by backtesting on historical data."
      ],
      "metadata": {
        "id": "aov2I3okpWKp"
      }
    },
    {
      "cell_type": "markdown",
      "source": [
        "0. Data collection:\n",
        "a. Use yFinance to download 5-10 years of historical OHLC data for Nifty50 stocks\n",
        "b. Alternately can use NIFTY index data"
      ],
      "metadata": {
        "id": "q56iCWn6qo-8"
      }
    },
    {
      "cell_type": "code",
      "source": [
        "from google.colab import drive\n",
        "drive.mount('/content/drive')"
      ],
      "metadata": {
        "colab": {
          "base_uri": "https://localhost:8080/"
        },
        "id": "D4yBeVqYrCO1",
        "outputId": "5305bda5-045d-49f2-8378-02f2f0f96b17"
      },
      "execution_count": null,
      "outputs": [
        {
          "output_type": "stream",
          "name": "stdout",
          "text": [
            "Drive already mounted at /content/drive; to attempt to forcibly remount, call drive.mount(\"/content/drive\", force_remount=True).\n"
          ]
        }
      ]
    },
    {
      "cell_type": "code",
      "source": [
        "path = \"/content/drive/MyDrive/^NSEI.csv\"\n",
        "data=pd.read_csv(path);\n",
        "\n"
      ],
      "metadata": {
        "id": "TLCO3JverDmc"
      },
      "execution_count": null,
      "outputs": []
    },
    {
      "cell_type": "markdown",
      "source": [
        "I. Data Preprocessing:\n",
        "A. Handle missing values\n",
        "\n",
        "\n",
        "B. Add technical indicators like trading volume, volatility, etc.\n",
        "C. Engineer features like daily returns, log returns, lagged prices"
      ],
      "metadata": {
        "id": "Gj5vyRzQsZ3f"
      }
    },
    {
      "cell_type": "code",
      "source": [
        "# A. Handle missing values\n",
        "data.dropna(inplace=True)\n",
        "\n",
        "# B. Add technical indicators like trading volume, volatility, etc.\n",
        "\n",
        "data['Volatility'] = data['Close'].pct_change().rolling(window=20).std()\n",
        "data['Volume_MA'] = data['Volume'].rolling(window=20).mean()\n",
        "\n",
        "#Relative Strength Index (RSI) Calculation\n",
        "def calculate_rsi(data, window=14):\n",
        "    # Calculate price changes, gains, and losses\n",
        "    delta = data['Close'].diff(1)\n",
        "    gain = delta.where(delta > 0, 0)\n",
        "    loss = -delta.where(delta < 0, 0)\n",
        "\n",
        "    # Calculate average gain and loss over the specified window\n",
        "    avg_gain = gain.rolling(window=window, min_periods=1).mean()\n",
        "    avg_loss = loss.rolling(window=window, min_periods=1).mean()\n",
        "\n",
        "    # Calculate relative strength (RS) and RSI\n",
        "    rs = avg_gain / avg_loss\n",
        "    data['RSI'] = 100 - (100 / (1 + rs))\n",
        "\n",
        "    return data\n",
        "\n",
        "# Apply RSI\n",
        "data = calculate_rsi(data)\n",
        "\n",
        "# C. Engineer features like daily returns, log returns, lagged prices\n",
        "data['Daily_Return'] = data['Close'].pct_change()\n",
        "data['Log_Return'] = np.log(1 + data['Daily_Return'])\n",
        "data['Lagged_Close'] = data['Close'].shift(1)\n"
      ],
      "metadata": {
        "id": "W8qH4m8DsaXI"
      },
      "execution_count": null,
      "outputs": []
    },
    {
      "cell_type": "markdown",
      "source": [
        "II. Strategy Development:\n",
        "A. Calculate 50-day and 200-day Simple Moving Averages\n",
        "B. Generate buy signal when 50-SMA crosses above 200-SMA\n",
        "C. Generate sell signal when 50-SMA crosses below 200-SMA"
      ],
      "metadata": {
        "id": "BZnMKCh7sjku"
      }
    },
    {
      "cell_type": "code",
      "source": [
        "#A\n",
        "data['50SMA'] = data['Close'].rolling(window=50).mean()\n",
        "data['200SMA'] = data['Close'].rolling(window=200).mean()\n",
        "\n",
        "# Create a 'Signal' column\n",
        "data['Signal'] = 0  # Initialize with zeros\n",
        "\n",
        "# 1 is buy signal, -1 is sell signal\n",
        "\n",
        "# Set signals based on conditions\n",
        "data.loc[data['50SMA'] > data['200SMA'], 'Signal'] = 1  # B\n",
        "data.loc[data['50SMA'] < data['200SMA'], 'Signal'] = -1  # C\n",
        "\n",
        "# 'Position' column in data\n",
        "data['Position'] = data['Signal'].shift(1)\n"
      ],
      "metadata": {
        "id": "GiWDRXUbsmeK"
      },
      "execution_count": null,
      "outputs": []
    },
    {
      "cell_type": "markdown",
      "source": [
        "III. Backtesting Engine:\n",
        "A. Simulate trades by applying signals on test data\n",
        "B. Track quantities like invested capital, portfolio value, returns"
      ],
      "metadata": {
        "id": "52_7I0lvsnGk"
      }
    },
    {
      "cell_type": "code",
      "source": [
        "def backtest(data, initial_capital=100000):\n",
        "    #DataFrame to hold trading positions\n",
        "    positions = pd.DataFrame(index=data.index).fillna(0.0)\n",
        "    positions['Position'] = data['Position']  #based on input data\n",
        "\n",
        "    #DataFrame to track portfolio metrics\n",
        "    portfolio = pd.DataFrame(index=data.index).fillna(0.0)\n",
        "    portfolio['Cash'] = initial_capital - (positions['Position'].diff() * data['Close']).cumsum()\n",
        "    portfolio['Holdings'] = (positions['Position'] * data['Close'])\n",
        "    portfolio['Total'] = portfolio['Cash'] + portfolio['Holdings']\n",
        "    portfolio['Returns'] = portfolio['Total'].pct_change()\n",
        "\n",
        "    return portfolio\n",
        "\n",
        "# Perform backtesting\n",
        "portfolio = backtest(data, initial_capital=100000)\n",
        "print(portfolio)"
      ],
      "metadata": {
        "id": "kLtyr0d6spj7",
        "colab": {
          "base_uri": "https://localhost:8080/"
        },
        "outputId": "1f77c916-cd20-40ad-9b7f-29f357b06422"
      },
      "execution_count": null,
      "outputs": [
        {
          "output_type": "stream",
          "name": "stdout",
          "text": [
            "               Cash      Holdings          Total   Returns\n",
            "399             NaN           NaN            NaN       NaN\n",
            "400             NaN      0.000000            NaN       NaN\n",
            "401   100000.000000      0.000000  100000.000000       NaN\n",
            "402   100000.000000      0.000000  100000.000000  0.000000\n",
            "403   100000.000000      0.000000  100000.000000  0.000000\n",
            "...             ...           ...            ...       ...\n",
            "1230   80608.654299  21737.599609  102346.253908  0.003776\n",
            "1231   80608.654299  21522.099609  102130.753908 -0.002106\n",
            "1232   80608.654299  21725.699219  102334.353518  0.001994\n",
            "1233   80608.654299  21697.449219  102306.103518 -0.000276\n",
            "1234   80608.654299  21853.800781  102462.455080  0.001528\n",
            "\n",
            "[833 rows x 4 columns]\n"
          ]
        }
      ]
    },
    {
      "cell_type": "markdown",
      "source": [
        "IV. Performance Evaluation:\n",
        "A. Calculate metrics like annual return, Sharpe ratio, max drawdown\n",
        "B. Compare strategy returns to Nifty50 returns"
      ],
      "metadata": {
        "id": "thj70D27sqKh"
      }
    },
    {
      "cell_type": "code",
      "source": [
        "\n",
        "\n",
        "#Calculate annual return\n",
        "portfolio_initial_value = portfolio['Total'].iloc[0]\n",
        "portfolio_final_value = portfolio['Total'].iloc[-1]\n",
        "annual_return = ((portfolio_final_value / portfolio_initial_value) ** (252 / len(data))) - 1\n",
        "\n",
        "# Calculate Sharpe ratio\n",
        "sharpe_ratio = data['Daily Portfolio Returns'].mean() / data['Daily Portfolio Returns'].std() * np.sqrt(252)\n",
        "\n",
        "# Calculate maximum drawdown\n",
        "max_drawdown = (portfolio['Total'] / portfolio['Total'].cummax() - 1).min()\n",
        "\n",
        "# Compare strategy returns to Nifty50 returns\n",
        "nifty_initial_value = data['Close'].iloc[0]\n",
        "nifty_final_value = data['Close'].iloc[-1]\n",
        "nifty_return = ((nifty_final_value / nifty_initial_value) ** (252 / len(data))) - 1\n"
      ],
      "metadata": {
        "id": "bjFsr9dSssTb"
      },
      "execution_count": null,
      "outputs": []
    },
    {
      "cell_type": "markdown",
      "source": [
        "V. Visualization:\n",
        "A. Interactive charts showing equity curve, signals\n",
        "B. Use matplotlib"
      ],
      "metadata": {
        "id": "QoEnw3pcsuJ4"
      }
    },
    {
      "cell_type": "code",
      "source": [
        "# Visualize equity curve\n",
        "plt.figure(figsize=(14, 8))\n",
        "plt.plot(portfolio['Total'], label='Portfolio Value', color='blue')\n",
        "plt.title('Equity Curve')\n",
        "plt.xlabel('Date')\n",
        "plt.ylabel('Value')\n",
        "plt.legend()\n",
        "plt.show()\n",
        "\n",
        "# Plot interactive chart with buy/sell signals\n",
        "plt.figure(figsize=(14, 8))\n",
        "plt.plot(data.index, data['Close'], label='Close Price', color='black')\n",
        "plt.scatter(data[data['Position'] == 1].index, data['Close'][data['Position'] == 1], marker='^', color='g', label='Buy Signal')\n",
        "plt.scatter(data[data['Position'] == -1].index, data['Close'][data['Position'] == -1], marker='v', color='r', label='Sell Signal')\n",
        "\n",
        "\n",
        "\n",
        "\n",
        "plt.title('Buy and Sell Signals ')\n",
        "plt.xlabel('Date')\n",
        "plt.ylabel('Value')\n",
        "plt.legend()\n",
        "plt.show()"
      ],
      "metadata": {
        "colab": {
          "base_uri": "https://localhost:8080/",
          "height": 217
        },
        "id": "wReB3Y_osugo",
        "outputId": "392fa437-745b-47a8-fbb3-b4277f28c0e3"
      },
      "execution_count": null,
      "outputs": [
        {
          "output_type": "error",
          "ename": "NameError",
          "evalue": "name 'plt' is not defined",
          "traceback": [
            "\u001b[0;31m---------------------------------------------------------------------------\u001b[0m",
            "\u001b[0;31mNameError\u001b[0m                                 Traceback (most recent call last)",
            "\u001b[0;32m<ipython-input-2-4bfc3e5aa55c>\u001b[0m in \u001b[0;36m<cell line: 2>\u001b[0;34m()\u001b[0m\n\u001b[1;32m      1\u001b[0m \u001b[0;31m# Visualize equity curve\u001b[0m\u001b[0;34m\u001b[0m\u001b[0;34m\u001b[0m\u001b[0m\n\u001b[0;32m----> 2\u001b[0;31m \u001b[0mplt\u001b[0m\u001b[0;34m.\u001b[0m\u001b[0mfigure\u001b[0m\u001b[0;34m(\u001b[0m\u001b[0mfigsize\u001b[0m\u001b[0;34m=\u001b[0m\u001b[0;34m(\u001b[0m\u001b[0;36m14\u001b[0m\u001b[0;34m,\u001b[0m \u001b[0;36m8\u001b[0m\u001b[0;34m)\u001b[0m\u001b[0;34m)\u001b[0m\u001b[0;34m\u001b[0m\u001b[0;34m\u001b[0m\u001b[0m\n\u001b[0m\u001b[1;32m      3\u001b[0m \u001b[0mplt\u001b[0m\u001b[0;34m.\u001b[0m\u001b[0mplot\u001b[0m\u001b[0;34m(\u001b[0m\u001b[0mportfolio\u001b[0m\u001b[0;34m[\u001b[0m\u001b[0;34m'Total'\u001b[0m\u001b[0;34m]\u001b[0m\u001b[0;34m,\u001b[0m \u001b[0mlabel\u001b[0m\u001b[0;34m=\u001b[0m\u001b[0;34m'Portfolio Value'\u001b[0m\u001b[0;34m,\u001b[0m \u001b[0mcolor\u001b[0m\u001b[0;34m=\u001b[0m\u001b[0;34m'blue'\u001b[0m\u001b[0;34m)\u001b[0m\u001b[0;34m\u001b[0m\u001b[0;34m\u001b[0m\u001b[0m\n\u001b[1;32m      4\u001b[0m \u001b[0mplt\u001b[0m\u001b[0;34m.\u001b[0m\u001b[0mtitle\u001b[0m\u001b[0;34m(\u001b[0m\u001b[0;34m'Equity Curve'\u001b[0m\u001b[0;34m)\u001b[0m\u001b[0;34m\u001b[0m\u001b[0;34m\u001b[0m\u001b[0m\n\u001b[1;32m      5\u001b[0m \u001b[0mplt\u001b[0m\u001b[0;34m.\u001b[0m\u001b[0mxlabel\u001b[0m\u001b[0;34m(\u001b[0m\u001b[0;34m'Date'\u001b[0m\u001b[0;34m)\u001b[0m\u001b[0;34m\u001b[0m\u001b[0;34m\u001b[0m\u001b[0m\n",
            "\u001b[0;31mNameError\u001b[0m: name 'plt' is not defined"
          ]
        }
      ]
    },
    {
      "cell_type": "markdown",
      "source": [
        "VI. Improvements (Optional)\n",
        "A. Parameter tune SMA periods\n",
        "B. Combine with other indicators like RSI"
      ],
      "metadata": {
        "id": "8Cw3tZYsswlE"
      }
    },
    {
      "cell_type": "code",
      "source": [
        "#B already combined RSI technical indicator"
      ],
      "metadata": {
        "id": "Pydd5Ya2sxCm"
      },
      "execution_count": null,
      "outputs": []
    }
  ]
}